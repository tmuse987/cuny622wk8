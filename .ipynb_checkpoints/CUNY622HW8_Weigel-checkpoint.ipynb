{
 "cells": [
  {
   "cell_type": "markdown",
   "metadata": {},
   "source": [
    "<H1> CUNY622 HW Week 8</H1>\n",
    "\n",
    "The text analyzed was retrieved form the Open American National Corpus (OANC).  It is available from this link:\n",
    "http://www.anc.org/data/oanc/download/\n",
    "\n",
    "The download from that site is a zip of hundreds of files.  The file chosen was a novel (unheard of) in the \"eggan\" folder.  \n"
   ]
  },
  {
   "cell_type": "code",
   "execution_count": 25,
   "metadata": {},
   "outputs": [],
   "source": [
    "import io\n",
    "import nltk\n",
    "import re\n",
    "\n",
    "\n",
    "\n",
    "path = 'C:/school/cuny/620/hwwk8/eggan/'\n",
    "fName = 'TheStory.txt'\n",
    "\n",
    "text = None\n",
    "\n",
    "#with open (path + fName, 'r', encoding = 'utf-8') as f:\n",
    "f = io.open(path + fName, mode=\"r\", encoding=\"utf-8\")\n",
    "text = f.read()\n",
    "f.close()\n",
    "\n",
    "# replace single apostrophe (i.e., the mark denoting posessiveness), b/c regex below makes single words of 's'\n",
    "text = text.replace('\\'', '')\n",
    "\n",
    "#replace all non-alpha characters with a space, essentially removing all punctuation and numbers (numbers indicating\n",
    "#chapters or subchapters), so we are left with just \"words\"\n",
    "text = re.sub('[^a-zA-Z]+', ' ', text)\n",
    "\n",
    "#make all lower case, as we want to have The and the be considered one word, not two\n",
    "text = text.lower()\n"
   ]
  },
  {
   "cell_type": "markdown",
   "metadata": {},
   "source": [
    "<H2>Unique Words (Question 3)</H2>\n",
    "The text contiains a little over 61k words, with a total of about 12k unique words.\n",
    "\n",
    "Any alpha text is considered a word.  Numbers were not considered words.  Words were all made lower case so words with the same letter butdifferent (original) capitalization are considered one word.  "
   ]
  },
  {
   "cell_type": "code",
   "execution_count": 26,
   "metadata": {},
   "outputs": [
    {
     "name": "stdout",
     "output_type": "stream",
     "text": [
      "The number of words in the text is: 61148\n",
      "The number of uniqure words in the text is: 12022\n"
     ]
    }
   ],
   "source": [
    "token_text = nltk.word_tokenize(text)\n",
    "print(\"The number of words in the text is: \" + str(len(token_text)))\n",
    "print(\"The number of uniqure words in the text is: \" + str(len(set(token_text))))"
   ]
  },
  {
   "cell_type": "code",
   "execution_count": 27,
   "metadata": {},
   "outputs": [
    {
     "name": "stdout",
     "output_type": "stream",
     "text": [
      "The number of words that makes up half the words in the text is only: 8\n",
      "The words are: the, of, and, to, in, a, is, that\n"
     ]
    }
   ],
   "source": [
    "fDist = nltk.FreqDist(token_text)\n",
    "uniqueWords = len(set(token_text))\n",
    "commonWords =  fDist.most_common()\n",
    "\n",
    "countInstances = commonWords[0][1]\n",
    "i = 1\n",
    "while(countInstances < uniqueWords):\n",
    "    countInstances += commonWords[i][1]\n",
    "    i +=1\n",
    "\n",
    "print(\"The number of words that makes up half the words in the text is only: \" + str(i))\n",
    " \n",
    "topWords = []\n",
    "[topWords.append(commonWords[i][0]) for i in range(0,8)]\n",
    "print('The words are: ' + ', '.join(topWords))\n"
   ]
  },
  {
   "cell_type": "markdown",
   "metadata": {},
   "source": [
    "<H2>200 Highest Frequency Words (Question 4)</H2>"
   ]
  },
  {
   "cell_type": "code",
   "execution_count": 28,
   "metadata": {
    "scrolled": true
   },
   "outputs": [
    {
     "data": {
      "text/plain": [
       "[(u'the', 3532),\n",
       " (u'of', 1824),\n",
       " (u'and', 1820),\n",
       " (u'to', 1561),\n",
       " (u'in', 1181),\n",
       " (u'a', 1179),\n",
       " (u'is', 702),\n",
       " (u'that', 566),\n",
       " (u'for', 486),\n",
       " (u'he', 450),\n",
       " (u'i', 435),\n",
       " (u'with', 407),\n",
       " (u'as', 400),\n",
       " (u'on', 395),\n",
       " (u'are', 377),\n",
       " (u'you', 341),\n",
       " (u'we', 340),\n",
       " (u'his', 340),\n",
       " (u'was', 320),\n",
       " (u'be', 310),\n",
       " (u'by', 308),\n",
       " (u'from', 301),\n",
       " (u'it', 286),\n",
       " (u'not', 285),\n",
       " (u'at', 270),\n",
       " (u'this', 256),\n",
       " (u'but', 242),\n",
       " (u'they', 240),\n",
       " (u'have', 236),\n",
       " (u'all', 232),\n",
       " (u'her', 221),\n",
       " (u'an', 212),\n",
       " (u'or', 198),\n",
       " (u'their', 194),\n",
       " (u'our', 191),\n",
       " (u'who', 161),\n",
       " (u'what', 157),\n",
       " (u'were', 151),\n",
       " (u'can', 149),\n",
       " (u'has', 143),\n",
       " (u'no', 143),\n",
       " (u'its', 142),\n",
       " (u'my', 141),\n",
       " (u'will', 141),\n",
       " (u'she', 131),\n",
       " (u'me', 130),\n",
       " (u'one', 129),\n",
       " (u'us', 122),\n",
       " (u'more', 119),\n",
       " (u'which', 119),\n",
       " (u'now', 118),\n",
       " (u'so', 115),\n",
       " (u'about', 113),\n",
       " (u'out', 113),\n",
       " (u'up', 111),\n",
       " (u'had', 108),\n",
       " (u'like', 108),\n",
       " (u'into', 107),\n",
       " (u'other', 106),\n",
       " (u'your', 104),\n",
       " (u'here', 98),\n",
       " (u'if', 97),\n",
       " (u'them', 96),\n",
       " (u'said', 96),\n",
       " (u'world', 95),\n",
       " (u'through', 91),\n",
       " (u'him', 91),\n",
       " (u'there', 89),\n",
       " (u'just', 88),\n",
       " (u'over', 88),\n",
       " (u'when', 85),\n",
       " (u'people', 84),\n",
       " (u'been', 84),\n",
       " (u'would', 84),\n",
       " (u'only', 83),\n",
       " (u'these', 78),\n",
       " (u'new', 78),\n",
       " (u'love', 76),\n",
       " (u'after', 74),\n",
       " (u'et', 74),\n",
       " (u'man', 74),\n",
       " (u'then', 72),\n",
       " (u'two', 70),\n",
       " (u'how', 69),\n",
       " (u'do', 68),\n",
       " (u'time', 66),\n",
       " (u'where', 66),\n",
       " (u'some', 65),\n",
       " (u'way', 62),\n",
       " (u'than', 61),\n",
       " (u'down', 61),\n",
       " (u'well', 60),\n",
       " (u'cyril', 60),\n",
       " (u's', 59),\n",
       " (u'even', 58),\n",
       " (u'little', 58),\n",
       " (u'any', 57),\n",
       " (u'too', 56),\n",
       " (u'know', 56),\n",
       " (u'old', 55),\n",
       " (u'around', 55),\n",
       " (u'see', 55),\n",
       " (u'could', 55),\n",
       " (u'good', 55),\n",
       " (u'years', 54),\n",
       " (u'am', 54),\n",
       " (u'back', 54),\n",
       " (u'black', 52),\n",
       " (u'get', 52),\n",
       " (u'men', 51),\n",
       " (u'say', 51),\n",
       " (u'human', 51),\n",
       " (u'own', 51),\n",
       " (u'life', 49),\n",
       " (u'self', 49),\n",
       " (u'himself', 49),\n",
       " (u'vyvyan', 49),\n",
       " (u'first', 48),\n",
       " (u'says', 48),\n",
       " (u'being', 47),\n",
       " (u'most', 47),\n",
       " (u'ambrose', 47),\n",
       " (u'because', 47),\n",
       " (u'much', 46),\n",
       " (u'many', 46),\n",
       " (u'also', 46),\n",
       " (u'think', 46),\n",
       " (u'under', 46),\n",
       " (u'made', 46),\n",
       " (u'never', 45),\n",
       " (u'may', 45),\n",
       " (u'dont', 45),\n",
       " (u'joseph', 44),\n",
       " (u'take', 44),\n",
       " (u'each', 44),\n",
       " (u'oh', 44),\n",
       " (u'de', 43),\n",
       " (u'body', 43),\n",
       " (u'mr', 43),\n",
       " (u'brain', 42),\n",
       " (u'between', 42),\n",
       " (u'im', 42),\n",
       " (u'south', 42),\n",
       " (u'right', 41),\n",
       " (u'young', 41),\n",
       " (u'off', 41),\n",
       " (u'while', 41),\n",
       " (u'before', 41),\n",
       " (u'must', 41),\n",
       " (u'water', 41),\n",
       " (u'white', 41),\n",
       " (u'sex', 40),\n",
       " (u'very', 40),\n",
       " (u'gay', 40),\n",
       " (u'tree', 39),\n",
       " (u'land', 39),\n",
       " (u'day', 39),\n",
       " (u'children', 39),\n",
       " (u'without', 39),\n",
       " (u'might', 39),\n",
       " (u'power', 38),\n",
       " (u'look', 38),\n",
       " (u'sexual', 38),\n",
       " (u'baby', 37),\n",
       " (u'should', 37),\n",
       " (u'order', 37),\n",
       " (u'go', 37),\n",
       " (u'eyes', 37),\n",
       " (u'thought', 37),\n",
       " (u'last', 37),\n",
       " (u'real', 36),\n",
       " (u'free', 36),\n",
       " (u'away', 35),\n",
       " (u'make', 35),\n",
       " (u'achmed', 35),\n",
       " (u'called', 35),\n",
       " (u'long', 34),\n",
       " (u'american', 34),\n",
       " (u'mind', 34),\n",
       " (u'dear', 34),\n",
       " (u'did', 34),\n",
       " (u'same', 34),\n",
       " (u'god', 34),\n",
       " (u'ferd', 34),\n",
       " (u'always', 33),\n",
       " (u'another', 33),\n",
       " (u'siegfried', 33),\n",
       " (u'since', 33),\n",
       " (u'every', 33),\n",
       " (u'got', 33),\n",
       " (u'want', 32),\n",
       " (u'such', 32),\n",
       " (u'great', 32),\n",
       " (u'need', 32),\n",
       " (u'better', 32),\n",
       " (u'girl', 32),\n",
       " (u'those', 32),\n",
       " (u'women', 32),\n",
       " (u'work', 31),\n",
       " (u'still', 31)]"
      ]
     },
     "execution_count": 28,
     "metadata": {},
     "output_type": "execute_result"
    }
   ],
   "source": [
    "fDist = nltk.FreqDist(token_text)\n",
    "mostCommon  = fDist.most_common(200)\n",
    "mostCommon"
   ]
  },
  {
   "cell_type": "markdown",
   "metadata": {},
   "source": [
    "<H2>Relatively Frequencies (Question 5)</H2>"
   ]
  },
  {
   "cell_type": "code",
   "execution_count": 29,
   "metadata": {},
   "outputs": [
    {
     "data": {
      "image/png": "[encoded data removed]",
      "text/plain": [
       "<Figure size 864x864 with 1 Axes>"
      ]
     },
     "metadata": {
      "needs_background": "light"
     },
     "output_type": "display_data"
    }
   ],
   "source": [
    "import matplotlib.pyplot as plt\n",
    "plt.rcParams['figure.figsize'] = [12, 12]\n",
    "freq = []\n",
    "[freq.append(wordFreq[1]) for wordFreq in mostCommon];\n",
    "plt.plot(range(0,200), freq)\n",
    "plt.show()"
   ]
  },
  {
   "cell_type": "markdown",
   "metadata": {},
   "source": [
    "<H2>Zipf's Law (Question 6)</H2>\n",
    "\n",
    "Zipf's law states that a words frequency is inversely proportional to its rank, i.e., 1/n where n is rank.\n",
    "\n",
    "Below we graph the frequency of words from our text along with a graph of Zipf's law with 1/1 as 3532, which is the highest frequency word ('the') from the text.\n",
    "\n",
    "As we see, the plots mathc pretty closely so that our text does indeed follow Zipf's law."
   ]
  },
  {
   "cell_type": "code",
   "execution_count": 30,
   "metadata": {},
   "outputs": [
    {
     "data": {
      "text/plain": [
       "<matplotlib.axes._subplots.AxesSubplot at 0xd536fd0>"
      ]
     },
     "execution_count": 30,
     "metadata": {},
     "output_type": "execute_result"
    },
    {
     "data": {
      "image/png": "[encoded data removed]",
      "text/plain": [
       "<Figure size 864x864 with 1 Axes>"
      ]
     },
     "metadata": {
      "needs_background": "light"
     },
     "output_type": "display_data"
    }
   ],
   "source": [
    "#plot with second zipf's law second line \n",
    "import numpy as np\n",
    "import pandas as pd\n",
    "\n",
    "zipf = []\n",
    "zipf.append(freq[0])\n",
    "[zipf.append(freq[0]/i) for i in range (1,200)];\n",
    "\n",
    "combined = pd.DataFrame(list(zip(freq,zipf)), columns = ['freq','zipf'])\n",
    "combined.plot()\n",
    "\n",
    "\n",
    "\n",
    "#combined = pd.DataFrame('y' : y, \n",
    "#combined =  np.hstack((y, zipY)).T\n",
    "#plt.plot(range(0,200), combined)\n",
    "#plt.plot((np.asarray(y), np.asanyarray(zipY)))"
   ]
  },
  {
   "cell_type": "markdown",
   "metadata": {},
   "source": [
    "<H2>Question 7, frequency of words</H2>\n",
    "It would be diffcult to answer with certainly how the frequency of words in this text varies from \"all words in all corpora\" without the knowledge of what is that 'all corpora' master text.  Some generalities can be assumed.  The text analyzed was a work of fiction, and as such it would vary from lots of other sources, in ways such as the following:\n",
    "\n",
    "* It would have far fewer \"large\" words than scientific texts.\n",
    "* It is more formal than texts such as personal emails and chats, having less \"made up words, aka 'lol' and 'brb'\n",
    "* It is likely less formal than journalistic texts\n",
    "* It would have more dialogue type words, e.g., said, supposed, yelled, whispered, and so forth\n",
    "\n",
    "\n"
   ]
  }
 ],
 "metadata": {
  "kernelspec": {
   "display_name": "Python 2",
   "language": "python",
   "name": "python2"
  },
  "language_info": {
   "codemirror_mode": {
    "name": "ipython",
    "version": 2
   },
   "file_extension": ".py",
   "mimetype": "text/x-python",
   "name": "python",
   "nbconvert_exporter": "python",
   "pygments_lexer": "ipython2",
   "version": "2.7.15"
  }
 },
 "nbformat": 4,
 "nbformat_minor": 2
}
